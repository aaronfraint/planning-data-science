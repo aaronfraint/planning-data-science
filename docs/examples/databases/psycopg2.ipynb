{
 "cells": [
  {
   "cell_type": "markdown",
   "id": "d1524a11-bd80-4234-a52d-68402b305fd5",
   "metadata": {},
   "source": [
    "# Manipulate SQL data with `psycopg2`\n",
    "\n",
    "## this is h2"
   ]
  },
  {
   "cell_type": "code",
   "execution_count": 1,
   "id": "0e923216-e38a-4380-a751-2594e4d11b1d",
   "metadata": {},
   "outputs": [],
   "source": [
    "import psycopg2"
   ]
  },
  {
   "cell_type": "code",
   "execution_count": 3,
   "id": "ec74c34e-b326-4868-b582-8cea7f9ab6e4",
   "metadata": {},
   "outputs": [
    {
     "data": {
      "text/plain": [
       "\u001b[0;31mType:\u001b[0m        module\n",
       "\u001b[0;31mString form:\u001b[0m <module 'psycopg2' from '/Volumes/external_2TB/github/planning-data-science/env/lib/python3.8/site-packages/psycopg2/__init__.py'>\n",
       "\u001b[0;31mFile:\u001b[0m        /Volumes/external_2TB/github/planning-data-science/env/lib/python3.8/site-packages/psycopg2/__init__.py\n",
       "\u001b[0;31mDocstring:\u001b[0m  \n",
       "A Python driver for PostgreSQL\n",
       "\n",
       "psycopg is a PostgreSQL_ database adapter for the Python_ programming\n",
       "language. This is version 2, a complete rewrite of the original code to\n",
       "provide new-style classes for connection and cursor objects and other sweet\n",
       "candies. Like the original, psycopg 2 was written with the aim of being very\n",
       "small and fast, and stable as a rock.\n",
       "\n",
       "Homepage: https://psycopg.org/\n",
       "\n",
       ".. _PostgreSQL: https://www.postgresql.org/\n",
       ".. _Python: https://www.python.org/\n",
       "\n",
       ":Groups:\n",
       "  * `Connections creation`: connect\n",
       "  * `Value objects constructors`: Binary, Date, DateFromTicks, Time,\n",
       "    TimeFromTicks, Timestamp, TimestampFromTicks\n"
      ]
     },
     "metadata": {},
     "output_type": "display_data"
    }
   ],
   "source": [
    "psycopg2?"
   ]
  }
 ],
 "metadata": {
  "kernelspec": {
   "display_name": "Python 3",
   "language": "python",
   "name": "python3"
  },
  "language_info": {
   "codemirror_mode": {
    "name": "ipython",
    "version": 3
   },
   "file_extension": ".py",
   "mimetype": "text/x-python",
   "name": "python",
   "nbconvert_exporter": "python",
   "pygments_lexer": "ipython3",
   "version": "3.8.5"
  }
 },
 "nbformat": 4,
 "nbformat_minor": 5
}
