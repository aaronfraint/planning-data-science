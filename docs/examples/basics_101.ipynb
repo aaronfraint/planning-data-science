{
 "cells": [
  {
   "cell_type": "markdown",
   "id": "59049f02-9c34-4ae1-accd-a9eaa08a902c",
   "metadata": {},
   "source": [
    "## Basics: 101\n",
    "\n",
    "Import libraries at the top of your script:"
   ]
  },
  {
   "cell_type": "code",
   "execution_count": 1,
   "id": "ad938ba3-31fc-4470-9f31-f2c6562cd23b",
   "metadata": {},
   "outputs": [],
   "source": [
    "import datetime"
   ]
  },
  {
   "cell_type": "markdown",
   "id": "add48254-46e9-4559-8e66-5e7afa4d509b",
   "metadata": {},
   "source": [
    "Use modules to do things. "
   ]
  },
  {
   "cell_type": "code",
   "execution_count": 2,
   "id": "885b75b3-5b04-4344-a521-c5fd6d7c729a",
   "metadata": {},
   "outputs": [
    {
     "data": {
      "text/plain": [
       "datetime.datetime(2021, 5, 19, 20, 49, 11, 336503)"
      ]
     },
     "execution_count": 2,
     "metadata": {},
     "output_type": "execute_result"
    }
   ],
   "source": [
    "datetime.datetime.now()"
   ]
  }
 ],
 "metadata": {
  "kernelspec": {
   "display_name": "Python 3",
   "language": "python",
   "name": "python3"
  },
  "language_info": {
   "codemirror_mode": {
    "name": "ipython",
    "version": 3
   },
   "file_extension": ".py",
   "mimetype": "text/x-python",
   "name": "python",
   "nbconvert_exporter": "python",
   "pygments_lexer": "ipython3",
   "version": "3.8.5"
  }
 },
 "nbformat": 4,
 "nbformat_minor": 5
}
