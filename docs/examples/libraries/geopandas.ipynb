{
 "cells": [
  {
   "cell_type": "markdown",
   "id": "2f2a3501-eb92-494b-bfbc-6ad3696ff4bc",
   "metadata": {},
   "source": [
    "# `geopandas`: analyze spatial data"
   ]
  },
  {
   "cell_type": "code",
   "execution_count": 1,
   "id": "ceaec8d9-92df-4daf-9899-86be0fdc3bbc",
   "metadata": {},
   "outputs": [],
   "source": [
    "import geopandas"
   ]
  },
  {
   "cell_type": "markdown",
   "id": "bda84ba0-d90a-4c3d-b7d7-25192d676074",
   "metadata": {},
   "source": [
    "## Import from URL\n",
    "\n",
    "https://www.opendataphilly.org/group/transportation-group"
   ]
  },
  {
   "cell_type": "code",
   "execution_count": 4,
   "id": "45239332-a91a-47df-9dd4-47c30a65862a",
   "metadata": {},
   "outputs": [],
   "source": [
    "urls = {\n",
    "    \"vision zero high injury network\": \"https://phl.carto.com/api/v2/sql?filename=high_injury_network_2020&format=geojson&skipfields=cartodb_id&q=SELECT+*+FROM+high_injury_network_2020\",\n",
    "    \"complete streets\": \"https://opendata.arcgis.com/datasets/ed90e9016aab4c429cb7dd8aef2a87a3_0.geojson\",\n",
    "    \"penndot crashes 2007 to 2017\": \"https://phl.carto.com/api/v2/sql?q=SELECT+*+FROM+crash_data_collision_crash_2007_2017&filename=crash_data_collision_crash_2007_2017&format=geojson&skipfields=cartodb_id\"\n",
    "}"
   ]
  }
 ],
 "metadata": {
  "kernelspec": {
   "display_name": "Python 3",
   "language": "python",
   "name": "python3"
  },
  "language_info": {
   "codemirror_mode": {
    "name": "ipython",
    "version": 3
   },
   "file_extension": ".py",
   "mimetype": "text/x-python",
   "name": "python",
   "nbconvert_exporter": "python",
   "pygments_lexer": "ipython3",
   "version": "3.8.5"
  }
 },
 "nbformat": 4,
 "nbformat_minor": 5
}
