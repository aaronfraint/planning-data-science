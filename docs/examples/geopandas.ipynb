{
 "cells": [
  {
   "cell_type": "markdown",
   "id": "fd2d8ad7-cd23-4744-b2d3-e44b576dd987",
   "metadata": {},
   "source": [
    "## This is the first h2"
   ]
  },
  {
   "cell_type": "code",
   "execution_count": 1,
   "id": "a832f974-f1fd-449e-bc18-52e43787a9f7",
   "metadata": {},
   "outputs": [],
   "source": [
    "import geopandas"
   ]
  },
  {
   "cell_type": "markdown",
   "id": "d091da93-418e-42df-a37b-802a2912ffd3",
   "metadata": {},
   "source": [
    "## this is a 2nd h2"
   ]
  }
 ],
 "metadata": {
  "kernelspec": {
   "display_name": "Python 3",
   "language": "python",
   "name": "python3"
  },
  "language_info": {
   "codemirror_mode": {
    "name": "ipython",
    "version": 3
   },
   "file_extension": ".py",
   "mimetype": "text/x-python",
   "name": "python",
   "nbconvert_exporter": "python",
   "pygments_lexer": "ipython3",
   "version": "3.8.5"
  }
 },
 "nbformat": 4,
 "nbformat_minor": 5
}
